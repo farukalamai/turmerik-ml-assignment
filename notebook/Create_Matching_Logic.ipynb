{
 "cells": [
  {
   "cell_type": "code",
   "execution_count": 2,
   "id": "0fb9a3d4-266f-4a4e-b6a7-63853ff7d0f3",
   "metadata": {},
   "outputs": [],
   "source": [
    "import pandas as pd"
   ]
  },
  {
   "cell_type": "code",
   "execution_count": 5,
   "id": "c8c687ac-70f8-4e98-a962-1e5e818cc419",
   "metadata": {},
   "outputs": [],
   "source": [
    "# Load clinical trials data\n",
    "clinical_trials = pd.read_csv('../data/clinicaltrials_data/ctg-studies.csv')\n",
    "\n",
    "# Load patient data\n",
    "patients = pd.read_csv('../data/preprocess_patients.csv')\n"
   ]
  },
  {
   "cell_type": "code",
   "execution_count": 7,
   "id": "735e33e3-e546-49d8-9182-5bcf28c6f9ee",
   "metadata": {},
   "outputs": [
    {
     "data": {
      "text/html": [
       "<div>\n",
       "<style scoped>\n",
       "    .dataframe tbody tr th:only-of-type {\n",
       "        vertical-align: middle;\n",
       "    }\n",
       "\n",
       "    .dataframe tbody tr th {\n",
       "        vertical-align: top;\n",
       "    }\n",
       "\n",
       "    .dataframe thead th {\n",
       "        text-align: right;\n",
       "    }\n",
       "</style>\n",
       "<table border=\"1\" class=\"dataframe\">\n",
       "  <thead>\n",
       "    <tr style=\"text-align: right;\">\n",
       "      <th></th>\n",
       "      <th>Id</th>\n",
       "      <th>GENDER</th>\n",
       "      <th>Age</th>\n",
       "    </tr>\n",
       "  </thead>\n",
       "  <tbody>\n",
       "    <tr>\n",
       "      <th>0</th>\n",
       "      <td>e93300bf-3a53-55c0-bd38-2ede59462f21</td>\n",
       "      <td>F</td>\n",
       "      <td>17</td>\n",
       "    </tr>\n",
       "    <tr>\n",
       "      <th>1</th>\n",
       "      <td>6b0b0021-df03-cbb6-305a-11ec40da7af4</td>\n",
       "      <td>M</td>\n",
       "      <td>48</td>\n",
       "    </tr>\n",
       "  </tbody>\n",
       "</table>\n",
       "</div>"
      ],
      "text/plain": [
       "                                     Id GENDER  Age\n",
       "0  e93300bf-3a53-55c0-bd38-2ede59462f21      F   17\n",
       "1  6b0b0021-df03-cbb6-305a-11ec40da7af4      M   48"
      ]
     },
     "execution_count": 7,
     "metadata": {},
     "output_type": "execute_result"
    }
   ],
   "source": [
    "patients.head(2)"
   ]
  },
  {
   "cell_type": "code",
   "execution_count": 8,
   "id": "ae819f4a-9123-4fce-b126-7e62b56c983a",
   "metadata": {},
   "outputs": [
    {
     "data": {
      "text/html": [
       "<div>\n",
       "<style scoped>\n",
       "    .dataframe tbody tr th:only-of-type {\n",
       "        vertical-align: middle;\n",
       "    }\n",
       "\n",
       "    .dataframe tbody tr th {\n",
       "        vertical-align: top;\n",
       "    }\n",
       "\n",
       "    .dataframe thead th {\n",
       "        text-align: right;\n",
       "    }\n",
       "</style>\n",
       "<table border=\"1\" class=\"dataframe\">\n",
       "  <thead>\n",
       "    <tr style=\"text-align: right;\">\n",
       "      <th></th>\n",
       "      <th>NCT Number</th>\n",
       "      <th>Study Title</th>\n",
       "      <th>Study URL</th>\n",
       "      <th>Study Status</th>\n",
       "      <th>Conditions</th>\n",
       "      <th>Interventions</th>\n",
       "      <th>Sex</th>\n",
       "      <th>Age</th>\n",
       "    </tr>\n",
       "  </thead>\n",
       "  <tbody>\n",
       "    <tr>\n",
       "      <th>0</th>\n",
       "      <td>NCT04687176</td>\n",
       "      <td>Frontline Oral Arsenic Trioxide for APL</td>\n",
       "      <td>https://clinicaltrials.gov/study/NCT04687176</td>\n",
       "      <td>RECRUITING</td>\n",
       "      <td>Acute Promyelocytic Leukemia</td>\n",
       "      <td>DRUG: Oral Arsenic Trioxide Formulation</td>\n",
       "      <td>ALL</td>\n",
       "      <td>CHILD, ADULT, OLDER_ADULT</td>\n",
       "    </tr>\n",
       "    <tr>\n",
       "      <th>1</th>\n",
       "      <td>NCT06400576</td>\n",
       "      <td>Smartphone &amp; Headphone Effects on Baropodometr...</td>\n",
       "      <td>https://clinicaltrials.gov/study/NCT06400576</td>\n",
       "      <td>RECRUITING</td>\n",
       "      <td>Smartphone Addiction|Postural</td>\n",
       "      <td>Defect|Dual Task</td>\n",
       "      <td>OTHER: Headphone and Smartphone Intervention</td>\n",
       "      <td>ALL</td>\n",
       "    </tr>\n",
       "  </tbody>\n",
       "</table>\n",
       "</div>"
      ],
      "text/plain": [
       "    NCT Number                                        Study Title  \\\n",
       "0  NCT04687176            Frontline Oral Arsenic Trioxide for APL   \n",
       "1  NCT06400576  Smartphone & Headphone Effects on Baropodometr...   \n",
       "\n",
       "                                      Study URL Study Status  \\\n",
       "0  https://clinicaltrials.gov/study/NCT04687176   RECRUITING   \n",
       "1  https://clinicaltrials.gov/study/NCT06400576   RECRUITING   \n",
       "\n",
       "                      Conditions                            Interventions  \\\n",
       "0   Acute Promyelocytic Leukemia  DRUG: Oral Arsenic Trioxide Formulation   \n",
       "1  Smartphone Addiction|Postural                         Defect|Dual Task   \n",
       "\n",
       "                                            Sex                        Age  \n",
       "0                                           ALL  CHILD, ADULT, OLDER_ADULT  \n",
       "1  OTHER: Headphone and Smartphone Intervention                        ALL  "
      ]
     },
     "execution_count": 8,
     "metadata": {},
     "output_type": "execute_result"
    }
   ],
   "source": [
    "clinical_trials.head(2)"
   ]
  },
  {
   "cell_type": "code",
   "execution_count": 9,
   "id": "7032a92e-5459-4a5a-892e-1db89c376157",
   "metadata": {},
   "outputs": [],
   "source": [
    "# Function to map patient's age to the trial's age group\n",
    "def map_age_to_group(age):\n",
    "    if age <= 17:\n",
    "        return 'CHILD'\n",
    "    elif 18 <= age <= 64:\n",
    "        return 'ADULT'\n",
    "    else:\n",
    "        return 'OLDER_ADULT'\n",
    "\n",
    "# Function to check if the patient's gender matches the trial's gender criteria\n",
    "def gender_matches(patient_gender, trial_sex):\n",
    "    if trial_sex == 'ALL':\n",
    "        return True\n",
    "    elif trial_sex == 'MALE' and patient_gender == 'M':\n",
    "        return True\n",
    "    elif trial_sex == 'FEMALE' and patient_gender == 'F':\n",
    "        return True\n",
    "    return False\n"
   ]
  },
  {
   "cell_type": "code",
   "execution_count": 10,
   "id": "6b1526f6-cd95-4d74-8be5-f9bf6593e975",
   "metadata": {},
   "outputs": [],
   "source": [
    "# List to store the final matching results\n",
    "results = []\n",
    "\n",
    "# Loop through each patient\n",
    "for _, patient in patients.iterrows():\n",
    "    patient_id = patient['Id']\n",
    "    patient_age = patient['Age']\n",
    "    patient_gender = patient['GENDER']\n",
    "    \n",
    "    # Map the patient's age to the trial's age group\n",
    "    patient_age_group = map_age_to_group(patient_age)\n",
    "    \n",
    "    eligible_trials = []\n",
    "    \n",
    "    # Loop through each clinical trial\n",
    "    for _, trial in clinical_trials.iterrows():\n",
    "        trial_id = trial['NCT Number']\n",
    "        trial_name = trial['Study Title']\n",
    "        trial_sex = trial['Sex']\n",
    "        trial_age_group = trial['Age']\n",
    "        \n",
    "        # Check if the patient's gender and age group match the trial's criteria\n",
    "        if gender_matches(patient_gender, trial_sex) and patient_age_group == trial_age_group:\n",
    "            eligible_trials.append({\n",
    "                \"trialId\": trial_id,\n",
    "                \"trialName\": trial_name\n",
    "            })\n",
    "    \n",
    "    # Append the patient's results\n",
    "    results.append({\n",
    "        \"patientId\": patient_id,\n",
    "        \"eligibleTrials\": eligible_trials\n",
    "    })\n",
    "\n",
    "# Convert the results to a DataFrame or export as needed\n",
    "results_df = pd.DataFrame(results)\n",
    "\n",
    "# Example: Export to a CSV\n",
    "results_df.to_csv('../data/matching_results.csv', index=False)\n"
   ]
  },
  {
   "cell_type": "code",
   "execution_count": null,
   "id": "ce8bc933-2ab4-4f7b-b846-cdcd8f1d0960",
   "metadata": {},
   "outputs": [],
   "source": []
  },
  {
   "cell_type": "code",
   "execution_count": null,
   "id": "b05f6b75-c290-4b8e-b941-2b5d0f2b0544",
   "metadata": {},
   "outputs": [],
   "source": []
  },
  {
   "cell_type": "code",
   "execution_count": null,
   "id": "351ae730-234a-4926-a9d5-d851f4a9e30d",
   "metadata": {},
   "outputs": [],
   "source": []
  }
 ],
 "metadata": {
  "kernelspec": {
   "display_name": "Python 3 (ipykernel)",
   "language": "python",
   "name": "python3"
  },
  "language_info": {
   "codemirror_mode": {
    "name": "ipython",
    "version": 3
   },
   "file_extension": ".py",
   "mimetype": "text/x-python",
   "name": "python",
   "nbconvert_exporter": "python",
   "pygments_lexer": "ipython3",
   "version": "3.12.4"
  }
 },
 "nbformat": 4,
 "nbformat_minor": 5
}
